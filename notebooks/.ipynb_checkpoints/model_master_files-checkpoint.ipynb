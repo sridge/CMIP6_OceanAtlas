{
 "cells": [
  {
   "cell_type": "code",
   "execution_count": 2,
   "metadata": {},
   "outputs": [
    {
     "name": "stdout",
     "output_type": "stream",
     "text": [
      "Collecting git+https://github.com/raphaeldussin/easy_coloc.git\n",
      "  Cloning https://github.com/raphaeldussin/easy_coloc.git to /tmp/pip-req-build-_h8swbbl\n",
      "  Running command git clone -q https://github.com/raphaeldussin/easy_coloc.git /tmp/pip-req-build-_h8swbbl\n",
      "Requirement already satisfied (use --upgrade to upgrade): easy-coloc==1.2 from git+https://github.com/raphaeldussin/easy_coloc.git in /srv/conda/envs/notebook/lib/python3.7/site-packages\n",
      "Building wheels for collected packages: easy-coloc\n",
      "  Building wheel for easy-coloc (setup.py) ... \u001b[?25ldone\n",
      "\u001b[?25h  Created wheel for easy-coloc: filename=easy_coloc-1.2-cp37-none-any.whl size=15236 sha256=e4aaf678c0b742639932694023a70762268a7783a0e7d632ccf1e0ef53bdd1d9\n",
      "  Stored in directory: /tmp/pip-ephem-wheel-cache-v8b8bxvg/wheels/d2/7d/b4/b59fd9036952a1fd5fd53be0197d0765da76ff584b04961e7d\n",
      "Successfully built easy-coloc\n"
     ]
    }
   ],
   "source": [
    "!pip install git+https://github.com/raphaeldussin/easy_coloc.git"
   ]
  },
  {
   "cell_type": "code",
   "execution_count": 4,
   "metadata": {},
   "outputs": [],
   "source": [
    "import utils\n",
    "import intake\n",
    "import dask\n",
    "import numpy as np"
   ]
  },
  {
   "cell_type": "code",
   "execution_count": null,
   "metadata": {},
   "outputs": [
    {
     "name": "stdout",
     "output_type": "stream",
     "text": [
      "________________________________\n",
      "po4\n",
      "________________________________\n",
      "MIROC-ES2L\n",
      "--> The keys in the returned dictionary of datasets are constructed as follows:\n",
      "\t'activity_id.institution_id.source_id.experiment_id.table_id.grid_label'\n",
      "\n",
      "--> There will be 1 group(s)\n",
      "UKESM1-0-LL\n",
      "--> The keys in the returned dictionary of datasets are constructed as follows:\n",
      "\t'activity_id.institution_id.source_id.experiment_id.table_id.grid_label'\n",
      "\n",
      "--> There will be 1 group(s)\n",
      "CESM2\n",
      "--> The keys in the returned dictionary of datasets are constructed as follows:\n",
      "\t'activity_id.institution_id.source_id.experiment_id.table_id.grid_label'\n",
      "\n",
      "--> There will be 1 group(s)\n"
     ]
    }
   ],
   "source": [
    "# ovar_names = ['thetao','so','po4','cfc11']\n",
    "ovar_names = ['po4','cfc11']\n",
    "\n",
    "# Some model grids cause interpolation issues, we skip these models for now\n",
    "# Will hopefully include all of these in future releases:\n",
    "# AWI-CM-1-1-MR, unstructured grid\n",
    "# IPSL-CM6A, CNRM-CM6-1, CNRM-ESM2-1, EC-Earth3-Veg, NESM3, trigger errors interpolation errors\n",
    "# NorCPM1 is projected, not historical\n",
    "exclude = ['AWI-CM-1-1-MR','CNRM-CM6-1','CNRM-ESM2-1','EC-Earth3-Veg','IPSL-CM6A-LR','NorCPM1','NESM3']\n",
    "\n",
    "\n",
    "for ovar_name in ovar_names:\n",
    "    print('________________________________')\n",
    "    print(ovar_name)\n",
    "    print('________________________________')\n",
    "    \n",
    "    # get CMIP6 catalog from intake\n",
    "    col = intake.open_esm_datastore('../catalogs/pangeo-cmip6.json')\n",
    "    cat = col.search(variable_id=ovar_name,\n",
    "                     table_id='Omon',\n",
    "                     experiment_id='historical',\n",
    "                     grid_label='gn')\n",
    "    \n",
    "    # models that have this particular ocean variable\n",
    "    model_series = cat.df.drop_duplicates(subset='source_id')['source_id']\n",
    "    \n",
    "    # model.series.items() could insteaad be a subset of models\n",
    "    for index, model in model_series.items():\n",
    "        \n",
    "        if model not in exclude:\n",
    "            print(model)\n",
    "\n",
    "            utils.model_to_glodap(model=model,ovar_name=ovar_name,output_path='../../sections/')"
   ]
  }
 ],
 "metadata": {
  "kernelspec": {
   "display_name": "Python 3",
   "language": "python",
   "name": "python3"
  },
  "language_info": {
   "codemirror_mode": {
    "name": "ipython",
    "version": 3
   },
   "file_extension": ".py",
   "mimetype": "text/x-python",
   "name": "python",
   "nbconvert_exporter": "python",
   "pygments_lexer": "ipython3",
   "version": "3.7.3"
  }
 },
 "nbformat": 4,
 "nbformat_minor": 4
}
