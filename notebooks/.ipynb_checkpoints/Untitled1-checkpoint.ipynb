{
 "cells": [
  {
   "cell_type": "code",
   "execution_count": null,
   "metadata": {},
   "outputs": [],
   "source": [
    "!pip install git+https://github.com/raphaeldussin/easy_coloc.git"
   ]
  },
  {
   "cell_type": "code",
   "execution_count": 2,
   "metadata": {},
   "outputs": [],
   "source": [
    "import utils"
   ]
  },
  {
   "cell_type": "code",
   "execution_count": null,
   "metadata": {},
   "outputs": [
    {
     "name": "stdout",
     "output_type": "stream",
     "text": [
      "thetao\n",
      "CESM2\n",
      "--> The keys in the returned dictionary of datasets are constructed as follows:\n",
      "\t'activity_id.institution_id.source_id.experiment_id.table_id.grid_label'\n",
      "\n",
      "--> There will be 1 group(s)\n"
     ]
    }
   ],
   "source": [
    "ovar_names = ['thetao','so']\n",
    "\n",
    "models = [\n",
    "#           'CanESM5',\n",
    "#           'MIROC-ES2L',\n",
    "#           'UKESM1-0-LL',\n",
    "          'CESM2',\n",
    "          'GISS-E2-1-G-CC',\n",
    "         ]\n",
    "\n",
    "for ovar_name in ovar_names:\n",
    "    \n",
    "    print(ovar_name)\n",
    "        \n",
    "    for model in models:\n",
    "        \n",
    "        print(model)\n",
    "\n",
    "        utils.model_to_glodap(model=model,ovar_name=ovar_name,output_path='../../sections/')"
   ]
  },
  {
   "cell_type": "code",
   "execution_count": null,
   "metadata": {},
   "outputs": [],
   "source": []
  }
 ],
 "metadata": {
  "kernelspec": {
   "display_name": "Python 3",
   "language": "python",
   "name": "python3"
  },
  "language_info": {
   "codemirror_mode": {
    "name": "ipython",
    "version": 3
   },
   "file_extension": ".py",
   "mimetype": "text/x-python",
   "name": "python",
   "nbconvert_exporter": "python",
   "pygments_lexer": "ipython3",
   "version": "3.7.3"
  }
 },
 "nbformat": 4,
 "nbformat_minor": 4
}
