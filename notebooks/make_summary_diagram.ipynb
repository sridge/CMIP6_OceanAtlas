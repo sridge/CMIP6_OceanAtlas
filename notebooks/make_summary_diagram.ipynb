{
 "cells": [
  {
   "cell_type": "markdown",
   "metadata": {},
   "source": [
    "# Taylor diagram function"
   ]
  },
  {
   "cell_type": "code",
   "execution_count": 78,
   "metadata": {},
   "outputs": [],
   "source": [
    "import scipy.interpolate as scint\n",
    "\n",
    "def regridder(model,obs,ovar_name):\n",
    "\n",
    "    bgc_ovar_names = ['dissic','no3','po4','talk']\n",
    "\n",
    "    # z distance is much less than distance between stations\n",
    "    scale_factor = model.dx.mean().values*1e3\n",
    "\n",
    "    ovar_obs = obs.iloc[0:,2].values.ravel()\n",
    "    \n",
    "    stations_obs = obs.station.values.ravel()\n",
    "    depth_obs = obs.depth.values.ravel()\n",
    "\n",
    "\n",
    "    stations_model = model.station.values.ravel()\n",
    "    depth_model = model.lev.values.ravel()\n",
    "\n",
    "    stations_model,depth_model = np.meshgrid(stations_model,depth_model)\n",
    "\n",
    "    interpolated_obs = scint.griddata((stations_obs, depth_obs/scale_factor),ovar_obs,\n",
    "                              (stations_model, depth_model/scale_factor),\n",
    "                              method='linear')\n",
    "\n",
    "    interpolated_obs = xr.DataArray(interpolated_obs,dims = model.dims, coords = model.coords,attrs=model[ovar_name].attrs)\n",
    "    interpolated_obs = interpolated_obs.where(~np.isnan(model[ovar_name]))\n",
    "    interpolated_obs = interpolated_obs.to_dataset(name=ovar_name)\n",
    "    \n",
    "    return interpolated_obs\n",
    "\n",
    "def glodap_to_model(cruise_id,glodap,coords,expc,ovar_name,output_path='../../../sections'):\n",
    "    \n",
    "    model2glodap_ovar_name = {'thetao':'theta',\n",
    "                          'so':'salinity',\n",
    "                          'cfc11':'cfc11',\n",
    "                          'sf6':'sf6',\n",
    "                          'dissic':'tco2',\n",
    "                          'no3':'no3',\n",
    "                          'po4':'po4',\n",
    "                          'talk':'talk',\n",
    "                         }\n",
    "    \n",
    "    expocode=expc[expc.ID==cruise_id].EXPOCODE.values[0]\n",
    "    section_obs = glodap[glodap.cruise==cruise_id]\n",
    "    station_obs = coords[coords.cruise==cruise_id]['station'] # get the station numbers for this particular cruise\n",
    "    \n",
    "\n",
    "    section_model = xr.open_mfdataset(f'{output_path}/{ovar_name}_{model}_tem_{expocode}.nc')\n",
    "    section_obs = section_obs[section_obs.station.isin(station_obs)]\n",
    "    section_model['station'] = station_obs.values # replace global station index with one for this cruise\n",
    "\n",
    "    section_obs = section_obs[['station','depth',model2glodap_ovar_name[ovar_name]]] # grab ovar_name from the section\n",
    "    section_obs[section_obs==-9999]= np.NaN # station_obs must have -9999 replaced with nans\n",
    "    section_obs = section_obs.dropna()\n",
    "    \n",
    "    # If there are no obs of this variable, section_obs will be empty.\n",
    "    # Here we make sure this cruise has observations of this variable before interpolation\n",
    "    if len(section_obs) > 0:\n",
    "\n",
    "        obs = section_obs[['station','depth',model2glodap_ovar_name[ovar_name]]].dropna()\n",
    "        model_output = section_model\n",
    "\n",
    "        interpolated_obs = regridder(model_output,obs,ovar_name)\n",
    "\n",
    "        interpolated_obs.to_netcdf(f'{output_path}/{ovar_name}_{model}_OBSERVED_{expocode}.nc')\n",
    "    \n",
    "    return interpolated_obs"
   ]
  },
  {
   "cell_type": "code",
   "execution_count": 18,
   "metadata": {},
   "outputs": [],
   "source": [
    "import numpy as NP\n",
    "import matplotlib.pyplot as PLT\n",
    "\n",
    "class TaylorDiagram(object):\n",
    "    \"\"\"\n",
    "    Taylor diagram.\n",
    "    Plot model standard deviation and correlation to reference (data)\n",
    "    sample in a single-quadrant polar plot, with r=stddev and\n",
    "    theta=arccos(correlation).\n",
    "    \n",
    "    Taylor diagram (Taylor, 2001) implementation.\n",
    "\n",
    "    #__version__ = \"Time-stamp: <2018-12-06 11:43:41 ycopin>\"\n",
    "    #__author__ = \"Yannick Copin <yannick.copin@laposte.net>\"\n",
    "    \n",
    "    modified by L. Gloege\n",
    "    \"\"\"\n",
    "\n",
    "    def __init__(self, refstd,\n",
    "                 fig=None, \n",
    "                 rect=111, \n",
    "                 label='_', \n",
    "                 srange=(0, 1.5), \n",
    "                 extend=False, \n",
    "                 radial_text_label=\"Correlation\",\n",
    "                 x_text_label='Normalized Standard deviation'):\n",
    "        \"\"\"\n",
    "        Set up Taylor diagram axes, i.e. single quadrant polar\n",
    "        plot, using `mpl_toolkits.axisartist.floating_axes`.\n",
    "        Parameters:\n",
    "        * refstd: reference standard deviation to be compared to\n",
    "        * fig: input Figure or None\n",
    "        * rect: subplot definition\n",
    "        * label: reference label\n",
    "        * srange: stddev axis extension, in units of *refstd*\n",
    "        * extend: extend diagram to negative correlations\n",
    "        \"\"\"\n",
    "\n",
    "        from matplotlib.projections import PolarAxes\n",
    "        import mpl_toolkits.axisartist.floating_axes as FA\n",
    "        import mpl_toolkits.axisartist.grid_finder as GF\n",
    "\n",
    "        self.refstd = refstd            # Reference standard deviation\n",
    "\n",
    "        tr = PolarAxes.PolarTransform()\n",
    "\n",
    "        # Correlation labels\n",
    "        rlocs = NP.array([0, 0.2, 0.4, 0.6, 0.7, 0.8, 0.9, 0.95, 0.99, 1])\n",
    "        if extend:\n",
    "            # Diagram extended to negative correlations\n",
    "            self.tmax = NP.pi\n",
    "            rlocs = NP.concatenate((-rlocs[:0:-1], rlocs))\n",
    "        else:\n",
    "            # Diagram limited to positive correlations\n",
    "            self.tmax = NP.pi/2\n",
    "        tlocs = NP.arccos(rlocs)        # Conversion to polar angles\n",
    "        gl1 = GF.FixedLocator(tlocs)    # Positions\n",
    "        tf1 = GF.DictFormatter(dict(zip(tlocs, map(str, rlocs))))\n",
    "\n",
    "        # Standard deviation axis extent (in units of reference stddev)\n",
    "        self.smin = srange[0] * self.refstd\n",
    "        self.smax = srange[1] * self.refstd\n",
    "\n",
    "        ghelper = FA.GridHelperCurveLinear(\n",
    "            tr,\n",
    "            extremes=(0, self.tmax, self.smin, self.smax),\n",
    "            grid_locator1=gl1, tick_formatter1=tf1)\n",
    "\n",
    "        if fig is None:\n",
    "            fig = PLT.figure()\n",
    "\n",
    "        ax = FA.FloatingSubplot(fig, rect, grid_helper=ghelper)\n",
    "        fig.add_subplot(ax)\n",
    "\n",
    "        # Adjust axes\n",
    "        ax.axis[\"top\"].set_axis_direction(\"bottom\")   # \"Angle axis\"\n",
    "        ax.axis[\"top\"].toggle(ticklabels=True, label=True)\n",
    "        ax.axis[\"top\"].major_ticklabels.set_axis_direction(\"top\")\n",
    "        ax.axis[\"top\"].label.set_axis_direction(\"top\")\n",
    "        ax.axis[\"top\"].label.set_text(radial_text_label)\n",
    "\n",
    "        ax.axis[\"left\"].set_axis_direction(\"bottom\")  # \"X axis\"\n",
    "        ax.axis[\"left\"].label.set_text(x_text_label)\n",
    "\n",
    "        ax.axis[\"right\"].set_axis_direction(\"top\")    # \"Y-axis\"\n",
    "        ax.axis[\"right\"].toggle(ticklabels=True)\n",
    "        ax.axis[\"right\"].major_ticklabels.set_axis_direction(\n",
    "            \"bottom\" if extend else \"left\")\n",
    "\n",
    "        if self.smin:\n",
    "            ax.axis[\"bottom\"].toggle(ticklabels=False, label=False)\n",
    "        else:\n",
    "            ax.axis[\"bottom\"].set_visible(False)          # Unused\n",
    "\n",
    "        self._ax = ax                   # Graphical axes\n",
    "        self.ax = ax.get_aux_axes(tr)   # Polar coordinates\n",
    "\n",
    "        # Add reference point and stddev contour\n",
    "        l, = self.ax.plot([0], self.refstd, 'k*',\n",
    "                          ls='', ms=10, label=label)\n",
    "        t = NP.linspace(0, self.tmax)\n",
    "        r = NP.zeros_like(t) + self.refstd\n",
    "        self.ax.plot(t, r, 'k--', label='_')\n",
    "\n",
    "        # Collect sample points for latter use (e.g. legend)\n",
    "        self.samplePoints = [l]\n",
    "\n",
    "    def add_sample(self, stddev, corrcoef, *args, **kwargs):\n",
    "        \"\"\"\n",
    "        Add sample (*stddev*, *corrcoeff*) to the Taylor\n",
    "        diagram. *args* and *kwargs* are directly propagated to the\n",
    "        `Figure.plot` command.\n",
    "        \"\"\"\n",
    "\n",
    "        l, = self.ax.plot(NP.arccos(corrcoef), stddev,\n",
    "                          *args, **kwargs)  # (theta, radius)\n",
    "        self.samplePoints.append(l)\n",
    "\n",
    "        return l\n",
    "\n",
    "    def add_grid(self, *args, **kwargs):\n",
    "        \"\"\"Add a grid.\"\"\"\n",
    "\n",
    "        self._ax.grid(*args, **kwargs)\n",
    "\n",
    "    def add_contours(self, levels=5, **kwargs):\n",
    "        \"\"\"\n",
    "        Add constant centered RMS difference contours, defined by *levels*.\n",
    "        \"\"\"\n",
    "\n",
    "        rs, ts = NP.meshgrid(NP.linspace(self.smin, self.smax),\n",
    "                             NP.linspace(0, self.tmax))\n",
    "        # Compute centered RMS difference\n",
    "        rms = NP.sqrt(self.refstd**2 + rs**2 - 2*self.refstd*rs*NP.cos(ts))\n",
    "\n",
    "        contours = self.ax.contour(ts, rs, rms, levels, **kwargs)\n",
    "\n",
    "        return contours"
   ]
  },
  {
   "cell_type": "markdown",
   "metadata": {},
   "source": [
    "# Calculate stats function"
   ]
  },
  {
   "cell_type": "code",
   "execution_count": 52,
   "metadata": {},
   "outputs": [],
   "source": [
    "def get_stats(dict_params=None):\n",
    "    \n",
    "    '''\n",
    "    get_stats(ds_obs, ds_mod, var)\n",
    "    make a dictionary of statistics \n",
    "    \n",
    "    Input\n",
    "    =========\n",
    "    ds_obs : xarray datarray of model\n",
    "    ds_mod : xarray datarray of obs\n",
    "    var : variable name you are looking at\n",
    "    \n",
    "    Output\n",
    "    ==========\n",
    "    stats_dict : dictionary of statistics comparing model and obsrvations \n",
    "    \n",
    "    '''\n",
    "    \n",
    "    \n",
    "    # get variable and model name\n",
    "    var = dict_params['ovar']\n",
    "    model = dict_params['model']\n",
    "    \n",
    "    # get model and obs dataarrays\n",
    "    ds_mod = dict_params['ds_mod']\n",
    "    ds_obs = dict_params['ds_obs']\n",
    "    \n",
    "    # force these to have have the same coordinates\n",
    "    ds_mod['station'] = ds_obs['station']\n",
    "    ds_mod['lev'] = ds_obs['lev']\n",
    "    \n",
    "    # rename variable to differentiatte obs and model\n",
    "    ds_obs = ds_obs.rename({f'{var}': f'{var}_obs'})\n",
    "    ds_mod = ds_mod.rename({f'{var}': f'{var}_mod'})\n",
    "\n",
    "    # merge xarray datasets\n",
    "    ds_merge = ds_obs.merge(ds_mod)\n",
    "\n",
    "    # make a dataframe and drop nans\n",
    "    ds_merge_nonan = ds_merge.to_dataframe().dropna()\n",
    "\n",
    "    # Calculate various statistics \n",
    "    bias = ds_merge_nonan[f'{var}_mod'].mean() - ds_merge_nonan[f'{var}_obs'].mean()\n",
    "    rmse = ((ds_merge_nonan[f'{var}_obs'] - ds_merge_nonan[f'{var}_mod']) ** 2).mean() ** .5\n",
    "    aae = np.abs(ds_merge_nonan[f'{var}_obs'] - ds_merge_nonan[f'{var}_mod']).mean()\n",
    "    corr = ds_merge_nonan[[f'{var}_obs', f'{var}_mod']].corr(method='pearson').iloc[0,1]\n",
    "    std_obs = ds_merge_nonan[[f'{var}_obs', f'{var}_mod']].std()[f'{var}_obs']\n",
    "    std_mod = ds_merge_nonan[[f'{var}_obs', f'{var}_mod']].std()[f'{var}_mod']\n",
    "    std_norm = ds_merge_nonan[[f'{var}_obs', f'{var}_mod']].std()[f'{var}_mod'] /\\\n",
    "               ds_merge_nonan[[f'{var}_obs', f'{var}_mod']].std()[f'{var}_obs']\n",
    "\n",
    "    # Put stats in dictionary\n",
    "    stats_dict = {'ovar': var,\n",
    "                 'model': model,\n",
    "                 #'member': member,\n",
    "                 #'section': section,\n",
    "                 'corr': corr,\n",
    "                 'std_obs' : std_obs,\n",
    "                 'std_mod': std_mod, \n",
    "                 'std_norm': std_norm,\n",
    "                 'rmse': rmse, \n",
    "                 'bias': bias}\n",
    "\n",
    "    return stats_dict"
   ]
  },
  {
   "cell_type": "code",
   "execution_count": 31,
   "metadata": {},
   "outputs": [],
   "source": [
    "ovar_name = 'dissic'\n",
    "model = 'CanESM5'\n",
    "cruise_line = 'A01W OVIDE'"
   ]
  },
  {
   "cell_type": "code",
   "execution_count": 20,
   "metadata": {},
   "outputs": [],
   "source": [
    "expc = pd.read_csv(f'../qc/FILTERED_GLODAP_EXPOCODE.csv')\n",
    "coords = pd.read_csv('../qc/GLODAPv2.2019_COORDS.csv')\n",
    "glodap = pd.read_csv('../qc/GLODAPv2.2019_Merged_Master_File.csv')"
   ]
  },
  {
   "cell_type": "code",
   "execution_count": 21,
   "metadata": {},
   "outputs": [
    {
     "data": {
      "text/plain": [
       "1047"
      ]
     },
     "execution_count": 21,
     "metadata": {},
     "output_type": "execute_result"
    }
   ],
   "source": [
    "cruise_id = expc[expc.LINE=='A01W OVIDE'].ID.values[0]\n",
    "cruise_id"
   ]
  },
  {
   "cell_type": "code",
   "execution_count": 32,
   "metadata": {},
   "outputs": [],
   "source": [
    "cruise_x = coords[coords.cruise.isin( expc['ID'][expc.LINE.str.contains(cruise_line)] )]"
   ]
  },
  {
   "cell_type": "markdown",
   "metadata": {},
   "source": [
    "# Calculate stats"
   ]
  },
  {
   "cell_type": "code",
   "execution_count": 42,
   "metadata": {},
   "outputs": [
    {
     "data": {
      "text/plain": [
       "xarray.core.dataset.Dataset"
      ]
     },
     "execution_count": 42,
     "metadata": {},
     "output_type": "execute_result"
    }
   ],
   "source": [
    "type(ds_obs)"
   ]
  },
  {
   "cell_type": "code",
   "execution_count": 63,
   "metadata": {},
   "outputs": [
    {
     "data": {
      "text/plain": [
       "[[1, 2, 3], [1, 2, 3]]"
      ]
     },
     "execution_count": 63,
     "metadata": {},
     "output_type": "execute_result"
    }
   ],
   "source": [
    "samples = []\n",
    "\n",
    "test = [1,2,3]\n",
    "\n",
    "samples.append(test)\n",
    "samples.append(test)\n",
    "samples"
   ]
  },
  {
   "cell_type": "code",
   "execution_count": 61,
   "metadata": {},
   "outputs": [
    {
     "data": {
      "text/plain": [
       "NoneType"
      ]
     },
     "execution_count": 61,
     "metadata": {},
     "output_type": "execute_result"
    }
   ],
   "source": []
  },
  {
   "cell_type": "code",
   "execution_count": 70,
   "metadata": {},
   "outputs": [],
   "source": [
    "ovar_name = 'thetao'"
   ]
  },
  {
   "cell_type": "code",
   "execution_count": 82,
   "metadata": {},
   "outputs": [
    {
     "ename": "OSError",
     "evalue": "no files to open",
     "output_type": "error",
     "traceback": [
      "\u001b[0;31m---------------------------------------------------------------------------\u001b[0m",
      "\u001b[0;31mOSError\u001b[0m                                   Traceback (most recent call last)",
      "\u001b[0;32m<ipython-input-82-5ec6f76b649a>\u001b[0m in \u001b[0;36m<module>\u001b[0;34m\u001b[0m\n\u001b[1;32m     18\u001b[0m                     \u001b[0mcatalog_path\u001b[0m\u001b[0;34m=\u001b[0m\u001b[0;34m'../../catalogs/pangeo-cmip6.json'\u001b[0m\u001b[0;34m,\u001b[0m\u001b[0;34m\u001b[0m\u001b[0;34m\u001b[0m\u001b[0m\n\u001b[1;32m     19\u001b[0m                     \u001b[0mqc_path\u001b[0m\u001b[0;34m=\u001b[0m\u001b[0;34m'../qc'\u001b[0m\u001b[0;34m,\u001b[0m\u001b[0;34m\u001b[0m\u001b[0;34m\u001b[0m\u001b[0m\n\u001b[0;32m---> 20\u001b[0;31m                      output_path='../../sections')\n\u001b[0m\u001b[1;32m     21\u001b[0m     \u001b[0mds_obs\u001b[0m \u001b[0;34m=\u001b[0m \u001b[0mglodap_to_model\u001b[0m\u001b[0;34m(\u001b[0m\u001b[0mcruise_id\u001b[0m\u001b[0;34m,\u001b[0m\u001b[0mglodap\u001b[0m\u001b[0;34m,\u001b[0m\u001b[0mcoords\u001b[0m\u001b[0;34m,\u001b[0m\u001b[0mexpc\u001b[0m\u001b[0;34m,\u001b[0m\u001b[0movar_name\u001b[0m\u001b[0;34m,\u001b[0m\u001b[0moutput_path\u001b[0m\u001b[0;34m=\u001b[0m\u001b[0;34m'../../sections'\u001b[0m\u001b[0;34m)\u001b[0m\u001b[0;34m\u001b[0m\u001b[0;34m\u001b[0m\u001b[0m\n\u001b[1;32m     22\u001b[0m \u001b[0;34m\u001b[0m\u001b[0m\n",
      "\u001b[0;32m<ipython-input-76-0cc3e3fe039c>\u001b[0m in \u001b[0;36mmodel_to_line\u001b[0;34m(ovar_name, model, cruise_line, catalog_path, qc_path, output_path)\u001b[0m\n\u001b[1;32m     39\u001b[0m     '''\n\u001b[1;32m     40\u001b[0m \u001b[0;34m\u001b[0m\u001b[0m\n\u001b[0;32m---> 41\u001b[0;31m     \u001b[0msampled_var\u001b[0m \u001b[0;34m=\u001b[0m \u001b[0mxr\u001b[0m\u001b[0;34m.\u001b[0m\u001b[0mopen_mfdataset\u001b[0m\u001b[0;34m(\u001b[0m\u001b[0;34mf'{output_path}/{ovar_name}_{model}_r*f?.nc'\u001b[0m\u001b[0;34m)\u001b[0m\u001b[0;34m\u001b[0m\u001b[0;34m\u001b[0m\u001b[0m\n\u001b[0m\u001b[1;32m     42\u001b[0m \u001b[0;34m\u001b[0m\u001b[0m\n\u001b[1;32m     43\u001b[0m \u001b[0;34m\u001b[0m\u001b[0m\n",
      "\u001b[0;32m/srv/conda/envs/notebook/lib/python3.7/site-packages/xarray/backends/api.py\u001b[0m in \u001b[0;36mopen_mfdataset\u001b[0;34m(paths, chunks, concat_dim, compat, preprocess, engine, lock, data_vars, coords, combine, autoclose, parallel, join, **kwargs)\u001b[0m\n\u001b[1;32m    866\u001b[0m \u001b[0;34m\u001b[0m\u001b[0m\n\u001b[1;32m    867\u001b[0m     \u001b[0;32mif\u001b[0m \u001b[0;32mnot\u001b[0m \u001b[0mpaths\u001b[0m\u001b[0;34m:\u001b[0m\u001b[0;34m\u001b[0m\u001b[0;34m\u001b[0m\u001b[0m\n\u001b[0;32m--> 868\u001b[0;31m         \u001b[0;32mraise\u001b[0m \u001b[0mOSError\u001b[0m\u001b[0;34m(\u001b[0m\u001b[0;34m\"no files to open\"\u001b[0m\u001b[0;34m)\u001b[0m\u001b[0;34m\u001b[0m\u001b[0;34m\u001b[0m\u001b[0m\n\u001b[0m\u001b[1;32m    869\u001b[0m \u001b[0;34m\u001b[0m\u001b[0m\n\u001b[1;32m    870\u001b[0m     \u001b[0;31m# If combine='by_coords' then this is unnecessary, but quick.\u001b[0m\u001b[0;34m\u001b[0m\u001b[0;34m\u001b[0m\u001b[0;34m\u001b[0m\u001b[0m\n",
      "\u001b[0;31mOSError\u001b[0m: no files to open"
     ]
    }
   ],
   "source": [
    "%%capture\n",
    "\n",
    "samples = []\n",
    "\n",
    "model_color = {'CanESM5':'cyan',\n",
    "               'MIROC-ES2L':'g',\n",
    "               'UKESM1-0-LL':'b',\n",
    "               'CESM2':'k',\n",
    "               'GISS-E2-1-G-CC':'k',\n",
    "              }\n",
    "\n",
    "for model in model_color.keys():\n",
    "    \n",
    "    print(model)\n",
    "\n",
    "   \n",
    "    ds_model = model_to_line(ovar_name=ovar_name,\n",
    "                    model=model,\n",
    "                    cruise_line=cruise_line,\n",
    "                    catalog_path='../../catalogs/pangeo-cmip6.json',\n",
    "                    qc_path='../qc',\n",
    "                     output_path='../../sections')\n",
    "    ds_obs = glodap_to_model(cruise_id,glodap,coords,expc,ovar_name,output_path='../../sections')\n",
    "\n",
    "    # input dictionary\n",
    "    input_dict = {'model': model,\n",
    "                   'ovar': ovar_name,\n",
    "                   'ds_obs' : ds_obs,\n",
    "                   'ds_mod' : ds_model}\n",
    "\n",
    "    # get dictionary of statistics \n",
    "    stats_dict = get_stats(dict_params=input_dict)\n",
    "\n",
    "    # show the stats\n",
    "    stats_dict\n",
    "    \n",
    "    model_stats = [stats_dict['std_norm'], stats_dict['corr'],  stats_dict['model'], model_color[model]]\n",
    "    \n",
    "    samples.append(model_stats)"
   ]
  },
  {
   "cell_type": "code",
   "execution_count": 80,
   "metadata": {},
   "outputs": [
    {
     "data": {
      "text/plain": [
       "[[1.1365108891702258, 0.8767822387647021, 'CanESM5', 'cyan'],\n",
       " [1.0550029721802265, 0.8301951329382014, 'MIROC-ES2L', 'g'],\n",
       " [0.9546213985757296, 0.9120882440385044, 'UKESM1-0-LL', 'b']]"
      ]
     },
     "execution_count": 80,
     "metadata": {},
     "output_type": "execute_result"
    }
   ],
   "source": [
    "samples"
   ]
  },
  {
   "cell_type": "markdown",
   "metadata": {},
   "source": [
    "# Generate Taylor diagram"
   ]
  },
  {
   "cell_type": "code",
   "execution_count": 81,
   "metadata": {},
   "outputs": [
    {
     "data": {
      "text/plain": [
       "<matplotlib.legend.Legend at 0x7f0c95f8c588>"
      ]
     },
     "execution_count": 81,
     "metadata": {},
     "output_type": "execute_result"
    },
    {
     "data": {
      "image/png": "[encoded data removed]",
      "text/plain": [
       "<Figure size 432x288 with 1 Axes>"
      ]
     },
     "metadata": {
      "needs_background": "light"
     },
     "output_type": "display_data"
    }
   ],
   "source": [
    "# Reference options \n",
    "ref_std = 1\n",
    "ref_color = 'r'\n",
    "ref_label = 'Reference'\n",
    "\n",
    "# Samples list (maybe make a dictionary)\n",
    "# -----------------------------------\n",
    "#         std   rho   model  color\n",
    "# -----------------------------------\n",
    "#samples = [[stats_dict['std_norm'], stats_dict['corr'],  stats_dict['model'], 'g']]\n",
    "# samples list is created above\n",
    "\n",
    "#===============================\n",
    "# Generate Taylor Diagram\n",
    "#===============================\n",
    "fig = plt.figure()\n",
    "\n",
    "# generate Taylor diagram object \n",
    "dia = TaylorDiagram(refstd=ref_std, label=ref_label, extend=False, fig=fig)\n",
    "\n",
    "# mark reference point as a red star\n",
    "dia.samplePoints[0].set_color(ref_color)  \n",
    "\n",
    "# add models to Taylor diagram\n",
    "for i, (stddev, corrcoef, name, col) in enumerate(samples):\n",
    "    dia.add_sample(stddev, corrcoef,\n",
    "                   marker='o', ms=10, ls='',\n",
    "                   mfc=col, mec='k',\n",
    "                   label=name)\n",
    "\n",
    "#===============================\n",
    "# RMSE contours \n",
    "# Levels : number RMSE lines \n",
    "# color  : color of contours gray\n",
    "#===============================\n",
    "# Add RMS contours, and label them\n",
    "contours = dia.add_contours(levels=3, colors='0.5') \n",
    "\n",
    "# add labelto RMSE contours \n",
    "dia.ax.clabel(contours, inline=1, fontsize=10, fmt='%.0f')\n",
    "\n",
    "# Add grid lines \n",
    "dia.add_grid()                              \n",
    "\n",
    "# Put ticks outward\n",
    "dia._ax.axis[:].major_ticks.set_tick_out(True)  \n",
    "\n",
    "# Add a figure legend and title\n",
    "fig.legend(dia.samplePoints,\n",
    "           [ p.get_label() for p in dia.samplePoints ],\n",
    "           numpoints=1, prop=dict(size='small'), loc='upper right')"
   ]
  },
  {
   "cell_type": "code",
   "execution_count": null,
   "metadata": {},
   "outputs": [],
   "source": []
  }
 ],
 "metadata": {
  "kernelspec": {
   "display_name": "Python 3",
   "language": "python",
   "name": "python3"
  },
  "language_info": {
   "codemirror_mode": {
    "name": "ipython",
    "version": 3
   },
   "file_extension": ".py",
   "mimetype": "text/x-python",
   "name": "python",
   "nbconvert_exporter": "python",
   "pygments_lexer": "ipython3",
   "version": "3.7.3"
  }
 },
 "nbformat": 4,
 "nbformat_minor": 4
}
