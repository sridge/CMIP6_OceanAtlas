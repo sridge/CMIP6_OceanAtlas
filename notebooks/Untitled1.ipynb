{
 "cells": [
  {
   "cell_type": "code",
   "execution_count": 1,
   "metadata": {},
   "outputs": [
    {
     "name": "stdout",
     "output_type": "stream",
     "text": [
      "Collecting git+https://github.com/raphaeldussin/easy_coloc.git\n",
      "  Cloning https://github.com/raphaeldussin/easy_coloc.git to /tmp/pip-req-build-5yc1_ra6\n",
      "  Running command git clone -q https://github.com/raphaeldussin/easy_coloc.git /tmp/pip-req-build-5yc1_ra6\n",
      "Requirement already satisfied (use --upgrade to upgrade): easy-coloc==1.2 from git+https://github.com/raphaeldussin/easy_coloc.git in /srv/conda/envs/notebook/lib/python3.7/site-packages\n",
      "Building wheels for collected packages: easy-coloc\n",
      "  Building wheel for easy-coloc (setup.py) ... \u001b[?25ldone\n",
      "\u001b[?25h  Created wheel for easy-coloc: filename=easy_coloc-1.2-cp37-none-any.whl size=15236 sha256=7b1c03d34bcb61e917b7935e58e625d083e0bdfce59d556a3923bdef162ce79f\n",
      "  Stored in directory: /tmp/pip-ephem-wheel-cache-uu82yfpt/wheels/d2/7d/b4/b59fd9036952a1fd5fd53be0197d0765da76ff584b04961e7d\n",
      "Successfully built easy-coloc\n"
     ]
    }
   ],
   "source": [
    "!pip install git+https://github.com/raphaeldussin/easy_coloc.git"
   ]
  },
  {
   "cell_type": "code",
   "execution_count": 2,
   "metadata": {},
   "outputs": [],
   "source": [
    "import utils"
   ]
  },
  {
   "cell_type": "code",
   "execution_count": null,
   "metadata": {},
   "outputs": [
    {
     "name": "stdout",
     "output_type": "stream",
     "text": [
      "thetao\n",
      "CESM2\n",
      "--> The keys in the returned dictionary of datasets are constructed as follows:\n",
      "\t'activity_id.institution_id.source_id.experiment_id.table_id.grid_label'\n",
      "\n",
      "--> There will be 1 group(s)\n"
     ]
    }
   ],
   "source": [
    "ovar_names = ['thetao','so']\n",
    "\n",
    "models = [\n",
    "#           'CanESM5',\n",
    "#           'MIROC-ES2L',\n",
    "#           'UKESM1-0-LL',\n",
    "          'CESM2',\n",
    "          'GISS-E2-1-G-CC',\n",
    "         ]\n",
    "\n",
    "for ovar_name in ovar_names:\n",
    "    \n",
    "    print(ovar_name)\n",
    "        \n",
    "    for model in models:\n",
    "        \n",
    "        print(model)\n",
    "\n",
    "        utils.model_to_glodap(model=model,ovar_name=ovar_name,output_path='../../sections/')"
   ]
  },
  {
   "cell_type": "code",
   "execution_count": null,
   "metadata": {},
   "outputs": [],
   "source": []
  }
 ],
 "metadata": {
  "kernelspec": {
   "display_name": "Python 3",
   "language": "python",
   "name": "python3"
  },
  "language_info": {
   "codemirror_mode": {
    "name": "ipython",
    "version": 3
   },
   "file_extension": ".py",
   "mimetype": "text/x-python",
   "name": "python",
   "nbconvert_exporter": "python",
   "pygments_lexer": "ipython3",
   "version": "3.7.3"
  }
 },
 "nbformat": 4,
 "nbformat_minor": 4
}
